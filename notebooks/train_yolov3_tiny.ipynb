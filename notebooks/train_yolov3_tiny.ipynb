{
 "cells": [
  {
   "cell_type": "code",
   "execution_count": 2,
   "metadata": {},
   "outputs": [
    {
     "name": "stdout",
     "output_type": "stream",
     "text": [
      "Sun Oct 20 20:03:33 2024       \n",
      "+-----------------------------------------------------------------------------------------+\n",
      "| NVIDIA-SMI 560.35.03              Driver Version: 560.35.03      CUDA Version: 12.6     |\n",
      "|-----------------------------------------+------------------------+----------------------+\n",
      "| GPU  Name                 Persistence-M | Bus-Id          Disp.A | Volatile Uncorr. ECC |\n",
      "| Fan  Temp   Perf          Pwr:Usage/Cap |           Memory-Usage | GPU-Util  Compute M. |\n",
      "|                                         |                        |               MIG M. |\n",
      "|=========================================+========================+======================|\n",
      "|   0  NVIDIA GeForce GTX 1660 Ti     Off |   00000000:01:00.0  On |                  N/A |\n",
      "| N/A   41C    P5             13W /   80W |      83MiB /   6144MiB |     18%      Default |\n",
      "|                                         |                        |                  N/A |\n",
      "+-----------------------------------------+------------------------+----------------------+\n",
      "                                                                                         \n",
      "+-----------------------------------------------------------------------------------------+\n",
      "| Processes:                                                                              |\n",
      "|  GPU   GI   CI        PID   Type   Process name                              GPU Memory |\n",
      "|        ID   ID                                                               Usage      |\n",
      "|=========================================================================================|\n",
      "|    0   N/A  N/A      3094      G   /usr/lib/xorg/Xorg                             81MiB |\n",
      "+-----------------------------------------------------------------------------------------+\n"
     ]
    }
   ],
   "source": [
    "!nvidia-smi"
   ]
  },
  {
   "cell_type": "code",
   "execution_count": 3,
   "metadata": {},
   "outputs": [],
   "source": [
    "import os\n",
    "import subprocess"
   ]
  },
  {
   "cell_type": "code",
   "execution_count": 4,
   "metadata": {},
   "outputs": [],
   "source": [
    "PROJECT_ROOT = \"/home/akash/My_Projects/Optical-Plant-Identification-for-Farming-Vehicles-\"\n",
    "DARKNET_PATH = os.path.join(PROJECT_ROOT, \"darknet\")\n",
    "DATA_PATH = os.path.join(PROJECT_ROOT, \"data\", \"processed_data\")"
   ]
  },
  {
   "cell_type": "code",
   "execution_count": 5,
   "metadata": {},
   "outputs": [
    {
     "name": "stdout",
     "output_type": "stream",
     "text": [
      "Created /home/akash/My_Projects/Optical-Plant-Identification-for-Farming-Vehicles-/data/processed_data/train.txt\n",
      "Created /home/akash/My_Projects/Optical-Plant-Identification-for-Farming-Vehicles-/data/processed_data/val.txt\n"
     ]
    }
   ],
   "source": [
    "# 2.1 Create train.txt and val.txt\n",
    "def create_image_list_file(set_type):\n",
    "    image_dir = os.path.join(DATA_PATH, set_type, \"images\")\n",
    "    output_file = os.path.join(DATA_PATH, f\"{set_type}.txt\")\n",
    "    \n",
    "    with open(output_file, \"w\") as f:\n",
    "        for image in os.listdir(image_dir):\n",
    "            if image.lower().endswith(('.png', '.jpg', '.jpeg')):\n",
    "                f.write(os.path.join(image_dir, image) + \"\\n\")\n",
    "    \n",
    "    print(f\"Created {output_file}\")\n",
    "\n",
    "create_image_list_file(\"train\")\n",
    "create_image_list_file(\"val\")\n"
   ]
  },
  {
   "cell_type": "code",
   "execution_count": 6,
   "metadata": {},
   "outputs": [
    {
     "name": "stdout",
     "output_type": "stream",
     "text": [
      "Created rumex_acetosa.data\n",
      "Created rumex_acetosa.names\n"
     ]
    }
   ],
   "source": [
    "# 2.2 Create rumex_acetosa.data file\n",
    "data_file_content = f\"\"\"classes = 1\n",
    "train = {os.path.join(DATA_PATH, \"train.txt\")}\n",
    "valid = {os.path.join(DATA_PATH, \"val.txt\")}\n",
    "names = {os.path.join(DATA_PATH, \"rumex_acetosa.names\")}\n",
    "backup = {os.path.join(DARKNET_PATH, \"backup\")}\n",
    "\"\"\"\n",
    "\n",
    "with open(os.path.join(DATA_PATH, \"rumex_acetosa.data\"), \"w\") as f:\n",
    "    f.write(data_file_content)\n",
    "\n",
    "print(\"Created rumex_acetosa.data\")\n",
    "\n",
    "# 2.3 Create rumex_acetosa.names file\n",
    "with open(os.path.join(DATA_PATH, \"rumex_acetosa.names\"), \"w\") as f:\n",
    "    f.write(\"rumex_acetosa\\n\")\n",
    "\n",
    "print(\"Created rumex_acetosa.names\")"
   ]
  },
  {
   "cell_type": "code",
   "execution_count": 7,
   "metadata": {},
   "outputs": [
    {
     "name": "stdout",
     "output_type": "stream",
     "text": [
      "Created and modified yolov3-tiny-rumex.cfg\n"
     ]
    }
   ],
   "source": [
    "# 2.4 Create yolov3-tiny-rumex.cfg file\n",
    "subprocess.run(f\"cp {os.path.join(DARKNET_PATH, 'cfg', 'yolov3-tiny.cfg')} {os.path.join(DARKNET_PATH, 'cfg', 'yolov3-tiny-rumex.cfg')}\", shell=True)\n",
    "\n",
    "cfg_path = os.path.join(DARKNET_PATH, \"cfg\", \"yolov3-tiny-rumex.cfg\")\n",
    "with open(cfg_path, \"r\") as f:\n",
    "    cfg_content = f.read()\n",
    "\n",
    "cfg_content = cfg_content.replace(\"classes=80\", \"classes=1\")\n",
    "cfg_content = cfg_content.replace(\"filters=255\", \"filters=18\")\n",
    "\n",
    "with open(cfg_path, \"w\") as f:\n",
    "    f.write(cfg_content)\n",
    "\n",
    "print(\"Created and modified yolov3-tiny-rumex.cfg\")"
   ]
  },
  {
   "cell_type": "code",
   "execution_count": 8,
   "metadata": {},
   "outputs": [
    {
     "name": "stdout",
     "output_type": "stream",
     "text": [
      "Pre-trained weights already exist\n"
     ]
    }
   ],
   "source": [
    "# 3. Download pre-trained weights\n",
    "weights_path = os.path.join(DARKNET_PATH, \"yolov3-tiny.weights\")\n",
    "if not os.path.exists(weights_path):\n",
    "    subprocess.run(f\"wget https://pjreddie.com/media/files/yolov3-tiny.weights -O {weights_path}\", shell=True)\n",
    "    print(\"Downloaded pre-trained weights\")\n",
    "else:\n",
    "    print(\"Pre-trained weights already exist\")"
   ]
  },
  {
   "cell_type": "code",
   "execution_count": 10,
   "metadata": {},
   "outputs": [
    {
     "name": "stdout",
     "output_type": "stream",
     "text": [
      "\n",
      "Training command prepared. To start training, run:\n",
      "\n",
      "cd /home/akash/My_Projects/Optical-Plant-Identification-for-Farming-Vehicles-/darknet && ./darknet detector train     /home/akash/My_Projects/Optical-Plant-Identification-for-Farming-Vehicles-/data/processed_data/rumex_acetosa.data     /home/akash/My_Projects/Optical-Plant-Identification-for-Farming-Vehicles-/darknet/cfg/yolov3-tiny-rumex.cfg     /home/akash/My_Projects/Optical-Plant-Identification-for-Farming-Vehicles-/darknet/yolov3-tiny.weights     -gpu 0\n",
      "\n"
     ]
    }
   ],
   "source": [
    "# 4. Prepare training command\n",
    "train_command = f\"\"\"\n",
    "cd {DARKNET_PATH} && ./darknet detector train \\\n",
    "    {os.path.join(DATA_PATH, \"rumex_acetosa.data\")} \\\n",
    "    {os.path.join(DARKNET_PATH, \"cfg\", \"yolov3-tiny-rumex.cfg\")} \\\n",
    "    {weights_path} \\\n",
    "    -gpu 0\n",
    "\"\"\"\n",
    "\n",
    "print(\"\\nTraining command prepared. To start training, run:\")\n",
    "print(train_command)"
   ]
  },
  {
   "cell_type": "code",
   "execution_count": 11,
   "metadata": {},
   "outputs": [
    {
     "name": "stdout",
     "output_type": "stream",
     "text": [
      "\n",
      "Starting training...\n"
     ]
    },
    {
     "name": "stderr",
     "output_type": "stream",
     "text": [
      " CUDA-version: 12000 (12060), cuDNN: 9.4.0, GPU count: 1  \n",
      " OpenCV version: 4.6.0\n",
      " 0 : compute_capability = 750, cudnn_half = 0, GPU: NVIDIA GeForce GTX 1660 Ti \n",
      "   layer   filters  size/strd(dil)      input                output\n",
      "   0 conv     16       3 x 3/ 1    416 x 416 x   3 ->  416 x 416 x  16 0.150 BF\n",
      "   1 max                2x 2/ 2    416 x 416 x  16 ->  208 x 208 x  16 0.003 BF\n",
      "   2 conv     32       3 x 3/ 1    208 x 208 x  16 ->  208 x 208 x  32 0.399 BF\n",
      "   3 max                2x 2/ 2    208 x 208 x  32 ->  104 x 104 x  32 0.001 BF\n",
      "   4 conv     64       3 x 3/ 1    104 x 104 x  32 ->  104 x 104 x  64 0.399 BF\n",
      "   5 max                2x 2/ 2    104 x 104 x  64 ->   52 x  52 x  64 0.001 BF\n",
      "   6 conv    128       3 x 3/ 1     52 x  52 x  64 ->   52 x  52 x 128 0.399 BF\n",
      "   7 max                2x 2/ 2     52 x  52 x 128 ->   26 x  26 x 128 0.000 BF\n",
      "   8 conv    256       3 x 3/ 1     26 x  26 x 128 ->   26 x  26 x 256 0.399 BF\n",
      "   9 max                2x 2/ 2     26 x  26 x 256 ->   13 x  13 x 256 0.000 BF\n",
      "  10 conv    512       3 x 3/ 1     13 x  13 x 256 ->   13 x  13 x 512 0.399 BF\n",
      "  11 max                2x 2/ 1     13 x  13 x 512 ->   13 x  13 x 512 0.000 BF\n",
      "  12 conv   1024       3 x 3/ 1     13 x  13 x 512 ->   13 x  13 x1024 1.595 BF\n",
      "  13 conv    256       1 x 1/ 1     13 x  13 x1024 ->   13 x  13 x 256 0.089 BF\n",
      "  14 conv    512       3 x 3/ 1     13 x  13 x 256 ->   13 x  13 x 512 0.399 BF\n",
      "  15 conv     18       1 x 1/ 1     13 x  13 x 512 ->   13 x  13 x  18 0.003 BF\n",
      "  16 yolo\n",
      "[yolo] params: iou loss: mse (2), iou_norm: 0.75, obj_norm: 1.00, cls_norm: 1.00, delta_norm: 1.00, scale_x_y: 1.00\n",
      "  17 route  13 \t\t                           ->   13 x  13 x 256 \n",
      "  18 conv    128       1 x 1/ 1     13 x  13 x 256 ->   13 x  13 x 128 0.011 BF\n",
      "  19 upsample                 2x    13 x  13 x 128 ->   26 x  26 x 128\n",
      "  20 route  19 8 \t                           ->   26 x  26 x 384 \n",
      "  21 conv    256       3 x 3/ 1     26 x  26 x 384 ->   26 x  26 x 256 1.196 BF\n",
      "  22 conv     18       1 x 1/ 1     26 x  26 x 256 ->   26 x  26 x  18 0.006 BF\n",
      "  23 yolo\n",
      "[yolo] params: iou loss: mse (2), iou_norm: 0.75, obj_norm: 1.00, cls_norm: 1.00, delta_norm: 1.00, scale_x_y: 1.00\n",
      "Total BFLOPS 5.448 \n",
      "avg_outputs = 324846 \n",
      " Allocate additional workspace_size = 52.44 MB \n",
      "Loading weights from /home/akash/My_Projects/Optical-Plant-Identification-for-Farming-Vehicles-/darknet/yolov3-tiny.weights..."
     ]
    },
    {
     "name": "stdout",
     "output_type": "stream",
     "text": [
      "yolov3-tiny-rumex\n",
      "net.optimized_memory = 0 \n",
      "mini_batch = 1, batch = 1, time_steps = 1, train = 1 \n",
      "Create CUDA-stream - 0 \n",
      " Create cudnn-handle 0 \n"
     ]
    },
    {
     "name": "stderr",
     "output_type": "stream",
     "text": [
      "Done! Loaded 24 layers from weights-file \n",
      "Darknet error location: ./src/detector.c, train_detector(), line #91\n",
      "Error: You set incorrect value batch=1 for Training! You should set batch=64 subdivision=64: Success\n",
      "backtrace (8 entries)\n",
      "1/8: ./darknet(log_backtrace+0x38) [0x6493f3b3b6d8]\n",
      "2/8: ./darknet(error+0x3d) [0x6493f3b3b7bd]\n",
      "3/8: ./darknet(train_detector+0x4b7e) [0x6493f3be972e]\n",
      "4/8: ./darknet(run_detector+0x9c0) [0x6493f3bf00c0]\n",
      "5/8: ./darknet(main+0x324) [0x6493f3af88d4]\n",
      "6/8: /usr/lib/x86_64-linux-gnu/libc.so.6(+0x2a1ca) [0x72bf4382a1ca]\n",
      "7/8: /usr/lib/x86_64-linux-gnu/libc.so.6(__libc_start_main+0x8b) [0x72bf4382a28b]\n",
      "8/8: ./darknet(_start+0x25) [0x6493f3afab55]\n"
     ]
    },
    {
     "name": "stdout",
     "output_type": "stream",
     "text": [
      "\n",
      " seen 64, trained: 32013 K-images (500 Kilo-batches_64) \n"
     ]
    },
    {
     "data": {
      "text/plain": [
       "CompletedProcess(args='\\ncd /home/akash/My_Projects/Optical-Plant-Identification-for-Farming-Vehicles-/darknet && ./darknet detector train     /home/akash/My_Projects/Optical-Plant-Identification-for-Farming-Vehicles-/data/processed_data/rumex_acetosa.data     /home/akash/My_Projects/Optical-Plant-Identification-for-Farming-Vehicles-/darknet/cfg/yolov3-tiny-rumex.cfg     /home/akash/My_Projects/Optical-Plant-Identification-for-Farming-Vehicles-/darknet/yolov3-tiny.weights     -gpu 0\\n', returncode=1)"
      ]
     },
     "execution_count": 11,
     "metadata": {},
     "output_type": "execute_result"
    }
   ],
   "source": [
    "# Execute the training command\n",
    "print(\"\\nStarting training...\")\n",
    "subprocess.run(train_command, shell=True)\n"
   ]
  },
  {
   "cell_type": "code",
   "execution_count": 1,
   "metadata": {},
   "outputs": [
    {
     "name": "stdout",
     "output_type": "stream",
     "text": [
      "nvcc: NVIDIA (R) Cuda compiler driver\n",
      "Copyright (c) 2005-2023 NVIDIA Corporation\n",
      "Built on Fri_Jan__6_16:45:21_PST_2023\n",
      "Cuda compilation tools, release 12.0, V12.0.140\n",
      "Build cuda_12.0.r12.0/compiler.32267302_0\n"
     ]
    }
   ],
   "source": [
    "!nvcc --version\n"
   ]
  },
  {
   "cell_type": "code",
   "execution_count": null,
   "metadata": {},
   "outputs": [],
   "source": []
  }
 ],
 "metadata": {
  "kernelspec": {
   "display_name": "venv",
   "language": "python",
   "name": "python3"
  },
  "language_info": {
   "codemirror_mode": {
    "name": "ipython",
    "version": 3
   },
   "file_extension": ".py",
   "mimetype": "text/x-python",
   "name": "python",
   "nbconvert_exporter": "python",
   "pygments_lexer": "ipython3",
   "version": "3.12.4"
  }
 },
 "nbformat": 4,
 "nbformat_minor": 2
}
